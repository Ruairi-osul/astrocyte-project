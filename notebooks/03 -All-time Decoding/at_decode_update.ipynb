{
 "cells": [
  {
   "cell_type": "code",
   "execution_count": 1,
   "metadata": {},
   "outputs": [],
   "source": [
    "from astro.load import Loader, GroupSessionData\n",
    "from astro.preprocess import Preprocessor, GroupedEventPreprocessor\n",
    "from astro.transforms import GroupSplitter\n",
    "\n",
    "from astro.decoding_alltime import (\n",
    "    ATDecodePreprocessor,\n",
    "    latency_mask_factory,\n",
    "    ModelFitterCV,\n",
    "    ModelFitterFrac,\n",
    "    all_time_decode_block,\n",
    "    RunResults,\n",
    "    ConfigTemplate,\n",
    "    ATDConfig,\n",
    "    generate_configuration,\n",
    "    process_atd_config,\n",
    ")\n",
    "from astro.decoding_alltime.shuffle import make_shuffle_templates, replicate_template\n",
    "\n",
    "from trace_minder.preprocess import TracePreprocessor\n",
    "from trace_minder.align import GroupedAligner\n",
    "from trace_minder.surrogates import SurrogateTemplate, Rotater, TraceSampler\n",
    "\n",
    "\n",
    "from sklearn.linear_model import LogisticRegression\n",
    "from sklearn.pipeline import Pipeline\n",
    "from sklearn.preprocessing import StandardScaler\n",
    "from sklearn.metrics import f1_score\n",
    "from sklearn.impute import SimpleImputer\n",
    "\n",
    "\n",
    "from dataclasses import dataclass\n",
    "from typing import Generator, Callable\n",
    "import pandas as pd\n",
    "from astro.decoding_alltime.runner import RunResults\n",
    "\n",
    "\n",
    "import os\n",
    "from pathlib import Path\n",
    "from astro.config import Config"
   ]
  },
  {
   "cell_type": "code",
   "execution_count": 2,
   "metadata": {},
   "outputs": [],
   "source": [
    "notebook_path = Path(os.getcwd())\n",
    "root_path = notebook_path.parent.parent\n",
    "env_path = root_path / \".env\"\n",
    "\n",
    "paths = Config.from_env(env_path)"
   ]
  },
  {
   "cell_type": "markdown",
   "metadata": {},
   "source": [
    "### Common Processors"
   ]
  },
  {
   "cell_type": "code",
   "execution_count": 3,
   "metadata": {},
   "outputs": [],
   "source": [
    "loader = Loader(data_dir=paths.data_dir)"
   ]
  },
  {
   "cell_type": "code",
   "execution_count": 4,
   "metadata": {},
   "outputs": [],
   "source": [
    "trace_preprocessor = TracePreprocessor(\n",
    "    max_time=600,\n",
    "    standardize=False,\n",
    "    medfilt_kernel_size=None,\n",
    "    resample_frequency=0.1,\n",
    ")\n",
    "\n",
    "event_preprocessor = GroupedEventPreprocessor(\n",
    "    df_events_group_col=\"mouse_name\",\n",
    "    df_events_event_time_col=\"start_time\",\n",
    "    first_x_events=5,\n",
    ")\n",
    "\n",
    "loader_preprocessor_first5 = Preprocessor(\n",
    "    trace_preprocessor=trace_preprocessor,\n",
    "    grouped_event_preprocessor=event_preprocessor,\n",
    ")"
   ]
  },
  {
   "cell_type": "code",
   "execution_count": 5,
   "metadata": {},
   "outputs": [],
   "source": [
    "trace_preprocessor = TracePreprocessor(\n",
    "    min_time=1200,\n",
    "    standardize=False,\n",
    "    medfilt_kernel_size=None,\n",
    "    resample_frequency=0.1,\n",
    ")\n",
    "\n",
    "event_preprocessor = GroupedEventPreprocessor(\n",
    "    df_events_group_col=\"mouse_name\",\n",
    "    df_events_event_time_col=\"start_time\",\n",
    "    last_x_events=5,\n",
    ")\n",
    "\n",
    "loader_preprocessor_last5 = Preprocessor(\n",
    "    trace_preprocessor=trace_preprocessor,\n",
    "    grouped_event_preprocessor=event_preprocessor,\n",
    ")"
   ]
  },
  {
   "cell_type": "code",
   "execution_count": 6,
   "metadata": {},
   "outputs": [],
   "source": [
    "group_splitter = GroupSplitter(\n",
    "    df_mice=loader.load_mice(),\n",
    "    df_neurons=loader.load_neurons(),\n",
    "    df_traces_time_col=\"time\",\n",
    "    excluded_groups=[\"VEH-VEH\"],\n",
    "    df_neurons_mouse_col=\"mouse_name\",\n",
    "    df_mice_mouse_col=\"mouse_name\",\n",
    "    df_neurons_neuron_col=\"cell_id\",\n",
    "    df_mice_group_col=\"group\",\n",
    ")"
   ]
  },
  {
   "cell_type": "code",
   "execution_count": 7,
   "metadata": {},
   "outputs": [],
   "source": [
    "initial_aligner = GroupedAligner(\n",
    "    t_before=30,\n",
    "    t_after=30,\n",
    "    df_wide_group_mapper=group_splitter.neurons_by_mouse(),\n",
    "    df_events_event_time_col=\"start_time\",\n",
    "    df_events_group_col=\"mouse_name\",\n",
    ")"
   ]
  },
  {
   "cell_type": "code",
   "execution_count": 8,
   "metadata": {},
   "outputs": [],
   "source": [
    "atd_preprocessor_5sec = ATDecodePreprocessor(\n",
    "    aligner=initial_aligner,\n",
    "    latency_in_block=latency_mask_factory(-5, 0),\n",
    "    latency_out_of_block=latency_mask_factory(0, 5),\n",
    ")"
   ]
  },
  {
   "cell_type": "markdown",
   "metadata": {},
   "source": [
    "### All Neurons"
   ]
  },
  {
   "cell_type": "code",
   "execution_count": 9,
   "metadata": {},
   "outputs": [],
   "source": [
    "from sklearn.model_selection import KFold, GroupKFold, LeaveOneGroupOut\n",
    "\n",
    "\n",
    "def clf_fac_all_neurons():\n",
    "    return Pipeline(\n",
    "        [\n",
    "            (\"imputer\", SimpleImputer()),\n",
    "            (\"scaler\", StandardScaler()),\n",
    "            (\"clf\", LogisticRegression(solver=\"saga\", max_iter=1000)),\n",
    "        ]\n",
    "    )\n",
    "\n",
    "\n",
    "def model_fitter_fac(frac=0.5):\n",
    "    return ModelFitterFrac(metric=f1_score, train_frac=frac)\n",
    "\n",
    "\n",
    "def model_fitter_cv():\n",
    "    return ModelFitterCV(metric=f1_score, cv=KFold(n_splites=5, shuffle=False))\n",
    "\n",
    "\n",
    "def model_fitter_grouped_cv():\n",
    "    return ModelFitterCV(metric=f1_score, cv=GroupKFold(n_splites=5))\n",
    "\n",
    "\n",
    "def group_getter(df_temp, df_aligned, df_target):\n",
    "    return df_temp[\"event_idx\"].values"
   ]
  },
  {
   "cell_type": "code",
   "execution_count": 16,
   "metadata": {},
   "outputs": [],
   "source": [
    "templates = [\n",
    "    ConfigTemplate(\n",
    "        data_dir=paths.data_dir,\n",
    "        session_name=\"ret\",\n",
    "        group=\"VEH-CNO\",\n",
    "        group_splitter=group_splitter,\n",
    "        loader_preprocessor=loader_preprocessor_first5,\n",
    "        block_group=\"CS\",\n",
    "        atd_preprocessor=atd_preprocessor_5sec,\n",
    "        model_factory=clf_fac_all_neurons,\n",
    "        model_fitter=model_fitter_fac,\n",
    "    ),\n",
    "    ConfigTemplate(\n",
    "        data_dir=paths.data_dir,\n",
    "        session_name=\"ret\",\n",
    "        group=\"CNO-VEH\",\n",
    "        group_splitter=group_splitter,\n",
    "        loader_preprocessor=loader_preprocessor_first5,\n",
    "        block_group=\"CS\",\n",
    "        atd_preprocessor=atd_preprocessor_5sec,\n",
    "        model_factory=clf_fac_all_neurons,\n",
    "        model_fitter=model_fitter_fac,\n",
    "    ),\n",
    "]"
   ]
  },
  {
   "cell_type": "code",
   "execution_count": 38,
   "metadata": {},
   "outputs": [],
   "source": []
  },
  {
   "cell_type": "code",
   "execution_count": 27,
   "metadata": {},
   "outputs": [
    {
     "data": {
      "application/vnd.jupyter.widget-view+json": {
       "model_id": "eeef1a7abd5d4ad7aa219460fa42a36e",
       "version_major": 2,
       "version_minor": 0
      },
      "text/plain": [
       "  0%|          | 0/2 [00:00<?, ?it/s]"
      ]
     },
     "metadata": {},
     "output_type": "display_data"
    }
   ],
   "source": [
    "from tqdm.notebook import tqdm\n",
    "\n",
    "\n",
    "res = []\n",
    "\n",
    "\n",
    "for template in tqdm(templates):\n",
    "    # generate samples with replacement\n",
    "    surrogate_template_set = make_shuffle_templates(\n",
    "        template=template,\n",
    "        n=50,\n",
    "        surrogate_factory=lambda: SurrogateTemplate(\n",
    "            sampler=TraceSampler(frac_retained=1, with_replacement=True)\n",
    "        ),\n",
    "    )\n",
    "\n",
    "    for atd_config in generate_configuration(surrogate_template_set):\n",
    "        run_res = process_atd_config(atd_config)\n",
    "        res.append(dict(group=template.group, score=run_res.score))"
   ]
  },
  {
   "cell_type": "code",
   "execution_count": 28,
   "metadata": {},
   "outputs": [
    {
     "data": {
      "text/html": [
       "<div>\n",
       "<style scoped>\n",
       "    .dataframe tbody tr th:only-of-type {\n",
       "        vertical-align: middle;\n",
       "    }\n",
       "\n",
       "    .dataframe tbody tr th {\n",
       "        vertical-align: top;\n",
       "    }\n",
       "\n",
       "    .dataframe thead th {\n",
       "        text-align: right;\n",
       "    }\n",
       "</style>\n",
       "<table border=\"1\" class=\"dataframe\">\n",
       "  <thead>\n",
       "    <tr style=\"text-align: right;\">\n",
       "      <th></th>\n",
       "      <th>group</th>\n",
       "      <th>score</th>\n",
       "    </tr>\n",
       "  </thead>\n",
       "  <tbody>\n",
       "    <tr>\n",
       "      <th>0</th>\n",
       "      <td>VEH-CNO</td>\n",
       "      <td>0.809365</td>\n",
       "    </tr>\n",
       "    <tr>\n",
       "      <th>1</th>\n",
       "      <td>VEH-CNO</td>\n",
       "      <td>0.809524</td>\n",
       "    </tr>\n",
       "    <tr>\n",
       "      <th>2</th>\n",
       "      <td>VEH-CNO</td>\n",
       "      <td>0.920000</td>\n",
       "    </tr>\n",
       "  </tbody>\n",
       "</table>\n",
       "</div>"
      ],
      "text/plain": [
       "     group     score\n",
       "0  VEH-CNO  0.809365\n",
       "1  VEH-CNO  0.809524\n",
       "2  VEH-CNO  0.920000"
      ]
     },
     "metadata": {},
     "output_type": "display_data"
    },
    {
     "name": "stderr",
     "output_type": "stream",
     "text": [
      "/opt/miniconda3/envs/astro/lib/python3.11/site-packages/seaborn/_oldcore.py:1498: FutureWarning: is_categorical_dtype is deprecated and will be removed in a future version. Use isinstance(dtype, CategoricalDtype) instead\n",
      "  if pd.api.types.is_categorical_dtype(vector):\n",
      "/opt/miniconda3/envs/astro/lib/python3.11/site-packages/seaborn/_oldcore.py:1498: FutureWarning: is_categorical_dtype is deprecated and will be removed in a future version. Use isinstance(dtype, CategoricalDtype) instead\n",
      "  if pd.api.types.is_categorical_dtype(vector):\n",
      "/opt/miniconda3/envs/astro/lib/python3.11/site-packages/seaborn/_oldcore.py:1498: FutureWarning: is_categorical_dtype is deprecated and will be removed in a future version. Use isinstance(dtype, CategoricalDtype) instead\n",
      "  if pd.api.types.is_categorical_dtype(vector):\n",
      "/opt/miniconda3/envs/astro/lib/python3.11/site-packages/seaborn/_oldcore.py:1498: FutureWarning: is_categorical_dtype is deprecated and will be removed in a future version. Use isinstance(dtype, CategoricalDtype) instead\n",
      "  if pd.api.types.is_categorical_dtype(vector):\n",
      "/opt/miniconda3/envs/astro/lib/python3.11/site-packages/seaborn/_oldcore.py:1498: FutureWarning: is_categorical_dtype is deprecated and will be removed in a future version. Use isinstance(dtype, CategoricalDtype) instead\n",
      "  if pd.api.types.is_categorical_dtype(vector):\n",
      "/opt/miniconda3/envs/astro/lib/python3.11/site-packages/seaborn/axisgrid.py:118: UserWarning: The figure layout has changed to tight\n",
      "  self._figure.tight_layout(*args, **kwargs)\n"
     ]
    },
    {
     "data": {
      "text/plain": [
       "<seaborn.axisgrid.FacetGrid at 0x164a9b4d0>"
      ]
     },
     "execution_count": 28,
     "metadata": {},
     "output_type": "execute_result"
    },
    {
     "data": {
      "image/png": "[encoded data removed]",
      "text/plain": [
       "<Figure size 500x500 with 1 Axes>"
      ]
     },
     "metadata": {},
     "output_type": "display_data"
    }
   ],
   "source": [
    "import seaborn as sns\n",
    "from IPython.display import display, HTML\n",
    "\n",
    "\n",
    "dfp = pd.DataFrame(res)\n",
    "\n",
    "display(dfp.head(3))\n",
    "\n",
    "sns.catplot(data=dfp, x=\"group\", y=\"score\", kind=\"box\")"
   ]
  },
  {
   "cell_type": "code",
   "execution_count": 20,
   "metadata": {},
   "outputs": [
    {
     "data": {
      "text/plain": [
       "{'df_temporal': pandas.core.frame.DataFrame,\n",
       " 'df_aligned': pandas.core.frame.DataFrame,\n",
       " 'target_ts': pandas.core.series.Series,\n",
       " 'clf': sklearn.base.BaseEstimator,\n",
       " 'le': sklearn.preprocessing._label.LabelEncoder,\n",
       " 'score': float,\n",
       " 'desc': str}"
      ]
     },
     "execution_count": 20,
     "metadata": {},
     "output_type": "execute_result"
    }
   ],
   "source": [
    "res[0].__annotations__"
   ]
  },
  {
   "cell_type": "code",
   "execution_count": null,
   "metadata": {},
   "outputs": [],
   "source": []
  },
  {
   "cell_type": "code",
   "execution_count": null,
   "metadata": {},
   "outputs": [],
   "source": []
  },
  {
   "cell_type": "code",
   "execution_count": 14,
   "metadata": {},
   "outputs": [
    {
     "data": {
      "application/vnd.jupyter.widget-view+json": {
       "model_id": "37affca8c81c4cd3a4015f6a4d2583a5",
       "version_major": 2,
       "version_minor": 0
      },
      "text/plain": [
       "0it [00:00, ?it/s]"
      ]
     },
     "metadata": {},
     "output_type": "display_data"
    }
   ],
   "source": [
    "from trace_minder.surrogates import Rotater\n",
    "\n",
    "shuffle_templates = make_shuffle_templates(\n",
    "    templates[5],\n",
    "    10,\n",
    "    surrogate_factory=lambda: SurrogateTemplate(\n",
    "        sampler=TraceSampler(time_col=\"time\", n_retained=5)\n",
    "    ),\n",
    ")\n",
    "res = []\n",
    "for atd_config in tqdm(generate_configuration(shuffle_templates)):\n",
    "    res.append(process_atd_config(atd_config))"
   ]
  },
  {
   "cell_type": "code",
   "execution_count": 15,
   "metadata": {},
   "outputs": [
    {
     "data": {
      "text/plain": [
       "[0.4682926829268293,\n",
       " 0.3537414965986394,\n",
       " 0.631868131868132,\n",
       " 0.5945945945945945,\n",
       " 0.684931506849315,\n",
       " 0.7093023255813953,\n",
       " 0.3852459016393443,\n",
       " 0.26337448559670784,\n",
       " 0.43884892086330934,\n",
       " 0.6448979591836734]"
      ]
     },
     "execution_count": 15,
     "metadata": {},
     "output_type": "execute_result"
    }
   ],
   "source": [
    "[r.score for r in res]"
   ]
  },
  {
   "cell_type": "code",
   "execution_count": null,
   "metadata": {},
   "outputs": [],
   "source": []
  },
  {
   "cell_type": "code",
   "execution_count": null,
   "metadata": {},
   "outputs": [],
   "source": []
  },
  {
   "cell_type": "code",
   "execution_count": null,
   "metadata": {},
   "outputs": [],
   "source": []
  },
  {
   "cell_type": "code",
   "execution_count": null,
   "metadata": {},
   "outputs": [],
   "source": []
  },
  {
   "cell_type": "code",
   "execution_count": null,
   "metadata": {},
   "outputs": [],
   "source": []
  },
  {
   "cell_type": "code",
   "execution_count": null,
   "metadata": {},
   "outputs": [],
   "source": [
    "templates = [\n",
    "    ConfigTemplate(\n",
    "        data_dir=paths.data_dir,\n",
    "        session_name=\"cond\",\n",
    "        group=\"VEH-CNO\",\n",
    "        group_splitter=group_splitter,\n",
    "        loader_preprocessor=loader_preprocessor_first5,\n",
    "        block_group=\"CS\",\n",
    "        atd_preprocessor=atd_preprocessor_5sec,\n",
    "        model_factory=clf_fac_all_neurons,\n",
    "        model_fitter=model_fitter_fac,\n",
    "    ),\n",
    "    ConfigTemplate(\n",
    "        data_dir=paths.data_dir,\n",
    "        session_name=\"cond\",\n",
    "        group=\"CNO-VEH\",\n",
    "        group_splitter=group_splitter,\n",
    "        loader_preprocessor=loader_preprocessor_first5,\n",
    "        block_group=\"CS\",\n",
    "        atd_preprocessor=atd_preprocessor_5sec,\n",
    "        model_factory=clf_fac_all_neurons,\n",
    "        model_fitter=model_fitter_fac,\n",
    "    ),\n",
    "    ConfigTemplate(\n",
    "        data_dir=paths.data_dir,\n",
    "        session_name=\"ret\",\n",
    "        group=\"VEH-CNO\",\n",
    "        group_splitter=group_splitter,\n",
    "        loader_preprocessor=loader_preprocessor_first5,\n",
    "        block_group=\"CS\",\n",
    "        atd_preprocessor=atd_preprocessor_5sec,\n",
    "        model_factory=clf_fac_all_neurons,\n",
    "        model_fitter=model_fitter_fac,\n",
    "    ),\n",
    "    ConfigTemplate(\n",
    "        data_dir=paths.data_dir,\n",
    "        session_name=\"ret\",\n",
    "        group=\"CNO-VEH\",\n",
    "        group_splitter=group_splitter,\n",
    "        loader_preprocessor=loader_preprocessor_first5,\n",
    "        block_group=\"CS\",\n",
    "        atd_preprocessor=atd_preprocessor_5sec,\n",
    "        model_factory=clf_fac_all_neurons,\n",
    "        model_fitter=model_fitter_fac,\n",
    "    ),\n",
    "    ConfigTemplate(\n",
    "        data_dir=paths.data_dir,\n",
    "        session_name=\"ext\",\n",
    "        group=\"VEH-CNO\",\n",
    "        group_splitter=group_splitter,\n",
    "        loader_preprocessor=loader_preprocessor_first5,\n",
    "        block_group=\"CS\",\n",
    "        atd_preprocessor=atd_preprocessor_5sec,\n",
    "        model_factory=clf_fac_all_neurons,\n",
    "        model_fitter=model_fitter_fac,\n",
    "    ),\n",
    "    ConfigTemplate(\n",
    "        data_dir=paths.data_dir,\n",
    "        session_name=\"ext\",\n",
    "        group=\"CNO-VEH\",\n",
    "        group_splitter=group_splitter,\n",
    "        loader_preprocessor=loader_preprocessor_first5,\n",
    "        block_group=\"CS\",\n",
    "        atd_preprocessor=atd_preprocessor_5sec,\n",
    "        model_factory=clf_fac_all_neurons,\n",
    "        model_fitter=model_fitter_fac,\n",
    "    ),\n",
    "    ConfigTemplate(\n",
    "        data_dir=paths.data_dir,\n",
    "        session_name=\"ext\",\n",
    "        group=\"VEH-CNO\",\n",
    "        group_splitter=group_splitter,\n",
    "        loader_preprocessor=loader_preprocessor_last5,\n",
    "        block_group=\"CS\",\n",
    "        atd_preprocessor=atd_preprocessor_5sec,\n",
    "        model_factory=clf_fac_all_neurons,\n",
    "        model_fitter=model_fitter_fac,\n",
    "    ),\n",
    "    ConfigTemplate(\n",
    "        data_dir=paths.data_dir,\n",
    "        session_name=\"ext\",\n",
    "        group=\"CNO-VEH\",\n",
    "        group_splitter=group_splitter,\n",
    "        loader_preprocessor=loader_preprocessor_last5,\n",
    "        block_group=\"CS\",\n",
    "        atd_preprocessor=atd_preprocessor_5sec,\n",
    "        model_factory=clf_fac_all_neurons,\n",
    "        model_fitter=model_fitter_fac,\n",
    "    ),\n",
    "    ConfigTemplate(\n",
    "        data_dir=paths.data_dir,\n",
    "        session_name=\"diff-ret\",\n",
    "        group=\"VEH-CNO\",\n",
    "        group_splitter=group_splitter,\n",
    "        loader_preprocessor=loader_preprocessor_first5,\n",
    "        block_group=\"CS\",\n",
    "        atd_preprocessor=atd_preprocessor_5sec,\n",
    "        model_factory=clf_fac_all_neurons,\n",
    "        model_fitter=model_fitter_fac,\n",
    "    ),\n",
    "    ConfigTemplate(\n",
    "        data_dir=paths.data_dir,\n",
    "        session_name=\"diff-ret\",\n",
    "        group=\"CNO-VEH\",\n",
    "        group_splitter=group_splitter,\n",
    "        loader_preprocessor=loader_preprocessor_first5,\n",
    "        block_group=\"CS\",\n",
    "        atd_preprocessor=atd_preprocessor_5sec,\n",
    "        model_factory=clf_fac_all_neurons,\n",
    "        model_fitter=model_fitter_fac,\n",
    "    ),\n",
    "]"
   ]
  }
 ],
 "metadata": {
  "kernelspec": {
   "display_name": "astro",
   "language": "python",
   "name": "python3"
  },
  "language_info": {
   "codemirror_mode": {
    "name": "ipython",
    "version": 3
   },
   "file_extension": ".py",
   "mimetype": "text/x-python",
   "name": "python",
   "nbconvert_exporter": "python",
   "pygments_lexer": "ipython3",
   "version": "3.11.5"
  }
 },
 "nbformat": 4,
 "nbformat_minor": 2
}
