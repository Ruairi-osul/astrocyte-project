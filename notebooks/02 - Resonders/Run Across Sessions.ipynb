{
 "cells": [
  {
   "cell_type": "code",
   "execution_count": 1,
   "metadata": {},
   "outputs": [],
   "source": [
    "from astro.load import Loader\n",
    "\n",
    "from astro.preprocess import Preprocessor, GroupedEventPreprocessor\n",
    "from astro.transforms import GroupSplitter\n",
    "from astro.responders.rotated import RespondersConfig, RespondersSaver, run_responders\n",
    "from astro.constants import SESSIONS\n",
    "\n",
    "\n",
    "from trace_minder.preprocess import TracePreprocessor\n",
    "from trace_minder.align import GroupedAligner\n",
    "from trace_minder.trace_aggregation import PrePostAggregator\n",
    "\n",
    "from copy import deepcopy\n",
    "import os\n",
    "from pathlib import Path\n",
    "from astro.config import Config"
   ]
  },
  {
   "cell_type": "code",
   "execution_count": 2,
   "metadata": {},
   "outputs": [],
   "source": [
    "notebook_path = Path(os.getcwd())\n",
    "root_path = notebook_path.parent.parent\n",
    "env_path = root_path / \".env\"\n",
    "\n",
    "PATHS = Config.from_env(env_path)"
   ]
  },
  {
   "cell_type": "code",
   "execution_count": 5,
   "metadata": {},
   "outputs": [],
   "source": [
    "HYPERPARAMS = dict(FREQ=0.1, TPRE=5, TPOST=5, EVENTS=\"first-5\", N_BOOT=100)\n",
    "\n",
    "loader = Loader(data_dir=PATHS.data_dir)  # temp value\n",
    "\n",
    "trace_preprocessor = TracePreprocessor(\n",
    "    standardize=True,\n",
    "    medfilt_kernel_size=None,\n",
    "    resample_frequency=HYPERPARAMS[\"FREQ\"],\n",
    "    drop_na=True,\n",
    ")\n",
    "grouped_event_preprocessor = GroupedEventPreprocessor(\n",
    "    df_events_group_col=\"mouse_name\",\n",
    "    df_events_event_time_col=\"start_time\",\n",
    "    first_x_events=5,\n",
    ")\n",
    "loader_preprocessor = Preprocessor(\n",
    "    trace_preprocessor=trace_preprocessor,\n",
    "    grouped_event_preprocessor=grouped_event_preprocessor,\n",
    ")\n",
    "\n",
    "group_splitter = GroupSplitter(\n",
    "    df_mice=loader.load_mice(),\n",
    "    df_neurons=loader.load_neurons(),\n",
    "    df_traces_time_col=\"time\",\n",
    "    excluded_groups=[\"VEH-VEH\"],\n",
    "    df_neurons_mouse_col=\"mouse_name\",\n",
    "    df_mice_mouse_col=\"mouse_name\",\n",
    "    df_neurons_neuron_col=\"cell_id\",\n",
    "    df_mice_group_col=\"group\",\n",
    ")\n",
    "\n",
    "\n",
    "round_precision = 1 if HYPERPARAMS[\"FREQ\"] < 1 else 0\n",
    "aligner = GroupedAligner(\n",
    "    t_before=HYPERPARAMS[\"TPRE\"],\n",
    "    t_after=HYPERPARAMS[\"TPOST\"],\n",
    "    df_wide_group_mapper=group_splitter.neurons_by_mouse(),\n",
    "    df_events_event_time_col=\"start_time\",\n",
    "    df_events_group_col=\"mouse_name\",\n",
    "    round_precision=round_precision,\n",
    ")\n",
    "\n",
    "average_trace_preprocessor = TracePreprocessor()\n",
    "\n",
    "aggregator = PrePostAggregator(event_idx_col=None)\n",
    "\n",
    "\n",
    "saver = RespondersSaver(\n",
    "    root_data_dir=PATHS.derived_data_dir / \"rotated_responders\",\n",
    ")\n",
    "\n",
    "RUN_CONFIG = RespondersConfig(\n",
    "    loader_preprocessor=loader_preprocessor,\n",
    "    aligner=aligner,\n",
    "    average_trace_preprocessor=average_trace_preprocessor,\n",
    "    aggregator=aggregator,\n",
    "    n_boot=HYPERPARAMS[\"N_BOOT\"],\n",
    ")"
   ]
  },
  {
   "cell_type": "code",
   "execution_count": 4,
   "metadata": {},
   "outputs": [
    {
     "name": "stdout",
     "output_type": "stream",
     "text": [
      "ret - CS\n"
     ]
    },
    {
     "name": "stderr",
     "output_type": "stream",
     "text": [
      "/opt/miniconda3/envs/astro/lib/python3.11/site-packages/joblib/externals/loky/process_executor.py:700: UserWarning: A worker stopped while some jobs were given to the executor. This can be caused by a too short worker timeout or by a memory leak.\n",
      "  warnings.warn(\n",
      "/opt/miniconda3/envs/astro/lib/python3.11/site-packages/pyarrow/pandas_compat.py:373: FutureWarning: is_sparse is deprecated and will be removed in a future version. Check `isinstance(dtype, pd.SparseDtype)` instead.\n",
      "  if _pandas_api.is_sparse(col):\n"
     ]
    },
    {
     "name": "stdout",
     "output_type": "stream",
     "text": [
      "ext - CS\n",
      "diff-ret - CS\n"
     ]
    },
    {
     "name": "stderr",
     "output_type": "stream",
     "text": [
      "/opt/miniconda3/envs/astro/lib/python3.11/site-packages/pyarrow/pandas_compat.py:373: FutureWarning: is_sparse is deprecated and will be removed in a future version. Check `isinstance(dtype, pd.SparseDtype)` instead.\n",
      "  if _pandas_api.is_sparse(col):\n"
     ]
    },
    {
     "name": "stdout",
     "output_type": "stream",
     "text": [
      "late-ret - CS\n"
     ]
    },
    {
     "name": "stderr",
     "output_type": "stream",
     "text": [
      "/opt/miniconda3/envs/astro/lib/python3.11/site-packages/pyarrow/pandas_compat.py:373: FutureWarning: is_sparse is deprecated and will be removed in a future version. Check `isinstance(dtype, pd.SparseDtype)` instead.\n",
      "  if _pandas_api.is_sparse(col):\n",
      "/opt/miniconda3/envs/astro/lib/python3.11/site-packages/pyarrow/pandas_compat.py:373: FutureWarning: is_sparse is deprecated and will be removed in a future version. Check `isinstance(dtype, pd.SparseDtype)` instead.\n",
      "  if _pandas_api.is_sparse(col):\n"
     ]
    },
    {
     "name": "stdout",
     "output_type": "stream",
     "text": [
      "renewal - CS\n"
     ]
    },
    {
     "name": "stderr",
     "output_type": "stream",
     "text": [
      "/opt/miniconda3/envs/astro/lib/python3.11/site-packages/pyarrow/pandas_compat.py:373: FutureWarning: is_sparse is deprecated and will be removed in a future version. Check `isinstance(dtype, pd.SparseDtype)` instead.\n",
      "  if _pandas_api.is_sparse(col):\n"
     ]
    }
   ],
   "source": [
    "BLOCK = \"CS\"\n",
    "\n",
    "\n",
    "for session in SESSIONS[1:]:\n",
    "    name = f\"{session} - {BLOCK}\"\n",
    "    print(name)\n",
    "\n",
    "    fn_suffix = \"\".join([f\"__{key}-{value}\" for key, value in HYPERPARAMS.items()])\n",
    "    run_saver = deepcopy(saver)\n",
    "    run_saver.set_fn_suffix(fn_suffix)\n",
    "\n",
    "    loader = Loader(\n",
    "        data_dir=PATHS.data_dir,\n",
    "        session_name=session,\n",
    "        block_group=BLOCK,\n",
    "        preprocessor=RUN_CONFIG.loader_preprocessor,\n",
    "    )\n",
    "\n",
    "    run_responders(\n",
    "        name=name,\n",
    "        loader=loader,\n",
    "        responders_config=RUN_CONFIG,\n",
    "        saver=run_saver,\n",
    "    )"
   ]
  },
  {
   "cell_type": "code",
   "execution_count": null,
   "metadata": {},
   "outputs": [],
   "source": []
  },
  {
   "cell_type": "code",
   "execution_count": null,
   "metadata": {},
   "outputs": [],
   "source": []
  }
 ],
 "metadata": {
  "kernelspec": {
   "display_name": "astro",
   "language": "python",
   "name": "python3"
  },
  "language_info": {
   "codemirror_mode": {
    "name": "ipython",
    "version": 3
   },
   "file_extension": ".py",
   "mimetype": "text/x-python",
   "name": "python",
   "nbconvert_exporter": "python",
   "pygments_lexer": "ipython3",
   "version": "3.11.5"
  }
 },
 "nbformat": 4,
 "nbformat_minor": 2
}
