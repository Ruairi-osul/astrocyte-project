{
 "cells": [
  {
   "cell_type": "code",
   "execution_count": 1,
   "metadata": {},
   "outputs": [],
   "source": [
    "from astro.load import Loader\n",
    "from astro.preprocess import Preprocessor, GroupedEventPreprocessor\n",
    "from astro.transforms import GroupSplitter\n",
    "\n",
    "\n",
    "from trace_minder.preprocess import TracePreprocessor\n",
    "from trace_minder.align import GroupedAligner\n",
    "from trace_minder.trace_aggregation import PrePostAggregator\n",
    "from trace_minder.responders.rotated_responder import AUCDiff, AUCDiffResponders\n",
    "\n",
    "\n",
    "import pandas as pd\n",
    "\n",
    "import os\n",
    "from pathlib import Path\n",
    "from astro.config import Config"
   ]
  },
  {
   "cell_type": "markdown",
   "metadata": {},
   "source": [
    "#### Paths"
   ]
  },
  {
   "cell_type": "code",
   "execution_count": 2,
   "metadata": {},
   "outputs": [],
   "source": [
    "notebook_path = Path(os.getcwd())\n",
    "root_path = notebook_path.parent.parent\n",
    "env_path = root_path / \".env\"\n",
    "\n",
    "paths = Config.from_env(env_path)"
   ]
  },
  {
   "cell_type": "markdown",
   "metadata": {},
   "source": [
    "#### Config\n",
    "\n",
    "- Loading and preprocessing of traces and events\n",
    "- 'Group' information to account for different mice having different block onsets\n",
    "- Alignment configuration\n",
    "- Post alignment processing, if any\n",
    "- Configuration of the AUC calculater\n",
    "- Configuration of the AUC bootstrap tester"
   ]
  },
  {
   "cell_type": "code",
   "execution_count": 3,
   "metadata": {},
   "outputs": [],
   "source": [
    "loader = Loader(data_dir=paths.data_dir)\n",
    "\n",
    "loader_preprocessor_first5 = Preprocessor(\n",
    "    trace_preprocessor=TracePreprocessor(\n",
    "        max_time=600,\n",
    "        standardize=True,\n",
    "        medfilt_kernel_size=None,\n",
    "        resample_frequency=0.1,\n",
    "        drop_na=True,\n",
    "    ),\n",
    "    grouped_event_preprocessor=GroupedEventPreprocessor(\n",
    "        df_events_group_col=\"mouse_name\",\n",
    "        df_events_event_time_col=\"start_time\",\n",
    "        first_x_events=5,\n",
    "    ),\n",
    ")\n",
    "loader.preprocessor = loader_preprocessor_first5\n",
    "\n",
    "\n",
    "group_splitter = GroupSplitter(\n",
    "    df_mice=loader.load_mice(),\n",
    "    df_neurons=loader.load_neurons(),\n",
    "    df_traces_time_col=\"time\",\n",
    "    excluded_groups=[\"VEH-VEH\"],\n",
    "    df_neurons_mouse_col=\"mouse_name\",\n",
    "    df_mice_mouse_col=\"mouse_name\",\n",
    "    df_neurons_neuron_col=\"cell_id\",\n",
    "    df_mice_group_col=\"group\",\n",
    ")\n",
    "\n",
    "aligner = GroupedAligner(\n",
    "    t_before=30,\n",
    "    t_after=30,\n",
    "    df_wide_group_mapper=group_splitter.neurons_by_mouse,\n",
    "    df_events_event_time_col=\"start_time\",\n",
    "    df_events_group_col=\"mouse_name\",\n",
    "    round_precision=1,\n",
    ")\n",
    "\n",
    "average_trace_preprocessor = TracePreprocessor()\n",
    "\n",
    "aggregator = PrePostAggregator(event_idx_col=None)\n",
    "\n",
    "\n",
    "stat_calculator = AUCDiff(\n",
    "    aligner=aligner,\n",
    "    average_trace_preprocessor=average_trace_preprocessor,\n",
    "    aggregator=aggregator,\n",
    ")\n",
    "\n",
    "responders_calculator = AUCDiffResponders(\n",
    "    aligner=aligner,\n",
    "    average_trace_preprocessor=average_trace_preprocessor,\n",
    "    aggregator=aggregator,\n",
    "    n_boot=50,\n",
    "    _store_reps=True,\n",
    ")"
   ]
  },
  {
   "cell_type": "markdown",
   "metadata": {},
   "source": [
    "#### Examplar: Calculating the Observed Statistic\n",
    "\n",
    "\n",
    "- Traces and events start times are loaded from a single session for each mouse\n",
    "- The `AUCDiff` AUC calculater performs the following steps automatically:\n",
    "  - Traces are aligned to events, calculating an average trace over trials\n",
    "  - AUC is calculated for the pre and post sections of the average trace\n"
   ]
  },
  {
   "cell_type": "code",
   "execution_count": 4,
   "metadata": {},
   "outputs": [
    {
     "name": "stdout",
     "output_type": "stream",
     "text": [
      "Average trace (long)\n"
     ]
    },
    {
     "data": {
      "text/html": [
       "<div>\n",
       "<style scoped>\n",
       "    .dataframe tbody tr th:only-of-type {\n",
       "        vertical-align: middle;\n",
       "    }\n",
       "\n",
       "    .dataframe tbody tr th {\n",
       "        vertical-align: top;\n",
       "    }\n",
       "\n",
       "    .dataframe thead th {\n",
       "        text-align: right;\n",
       "    }\n",
       "</style>\n",
       "<table border=\"1\" class=\"dataframe\">\n",
       "  <thead>\n",
       "    <tr style=\"text-align: right;\">\n",
       "      <th></th>\n",
       "      <th>aligned_time</th>\n",
       "      <th>neuron</th>\n",
       "      <th>value</th>\n",
       "    </tr>\n",
       "  </thead>\n",
       "  <tbody>\n",
       "    <tr>\n",
       "      <th>0</th>\n",
       "      <td>-30.0</td>\n",
       "      <td>1050</td>\n",
       "      <td>-0.141333</td>\n",
       "    </tr>\n",
       "    <tr>\n",
       "      <th>1</th>\n",
       "      <td>-29.9</td>\n",
       "      <td>1050</td>\n",
       "      <td>-0.014349</td>\n",
       "    </tr>\n",
       "    <tr>\n",
       "      <th>2</th>\n",
       "      <td>-29.8</td>\n",
       "      <td>1050</td>\n",
       "      <td>-0.063068</td>\n",
       "    </tr>\n",
       "  </tbody>\n",
       "</table>\n",
       "</div>"
      ],
      "text/plain": [
       "   aligned_time neuron     value\n",
       "0         -30.0   1050 -0.141333\n",
       "1         -29.9   1050 -0.014349\n",
       "2         -29.8   1050 -0.063068"
      ]
     },
     "metadata": {},
     "output_type": "display_data"
    },
    {
     "name": "stdout",
     "output_type": "stream",
     "text": [
      "\n",
      "Statistic: AUC-post minus AUC-pre\n"
     ]
    },
    {
     "data": {
      "text/html": [
       "<div>\n",
       "<style scoped>\n",
       "    .dataframe tbody tr th:only-of-type {\n",
       "        vertical-align: middle;\n",
       "    }\n",
       "\n",
       "    .dataframe tbody tr th {\n",
       "        vertical-align: top;\n",
       "    }\n",
       "\n",
       "    .dataframe thead th {\n",
       "        text-align: right;\n",
       "    }\n",
       "</style>\n",
       "<table border=\"1\" class=\"dataframe\">\n",
       "  <thead>\n",
       "    <tr style=\"text-align: right;\">\n",
       "      <th></th>\n",
       "      <th>event_idx</th>\n",
       "      <th>neuron</th>\n",
       "      <th>post</th>\n",
       "      <th>pre</th>\n",
       "      <th>post_sub_pre</th>\n",
       "    </tr>\n",
       "  </thead>\n",
       "  <tbody>\n",
       "    <tr>\n",
       "      <th>0</th>\n",
       "      <td>0</td>\n",
       "      <td>1050</td>\n",
       "      <td>0.015355</td>\n",
       "      <td>-0.079142</td>\n",
       "      <td>0.094497</td>\n",
       "    </tr>\n",
       "    <tr>\n",
       "      <th>1</th>\n",
       "      <td>0</td>\n",
       "      <td>1051</td>\n",
       "      <td>0.512359</td>\n",
       "      <td>0.215746</td>\n",
       "      <td>0.296614</td>\n",
       "    </tr>\n",
       "    <tr>\n",
       "      <th>2</th>\n",
       "      <td>0</td>\n",
       "      <td>1053</td>\n",
       "      <td>-0.105208</td>\n",
       "      <td>0.001938</td>\n",
       "      <td>-0.107147</td>\n",
       "    </tr>\n",
       "  </tbody>\n",
       "</table>\n",
       "</div>"
      ],
      "text/plain": [
       "   event_idx neuron      post       pre  post_sub_pre\n",
       "0          0   1050  0.015355 -0.079142      0.094497\n",
       "1          0   1051  0.512359  0.215746      0.296614\n",
       "2          0   1053 -0.105208  0.001938     -0.107147"
      ]
     },
     "metadata": {},
     "output_type": "display_data"
    },
    {
     "name": "stdout",
     "output_type": "stream",
     "text": [
      "\n",
      "---------------------------\n",
      "Statistic calculator\n",
      "---------------------------\n"
     ]
    },
    {
     "data": {
      "text/html": [
       "<div>\n",
       "<style scoped>\n",
       "    .dataframe tbody tr th:only-of-type {\n",
       "        vertical-align: middle;\n",
       "    }\n",
       "\n",
       "    .dataframe tbody tr th {\n",
       "        vertical-align: top;\n",
       "    }\n",
       "\n",
       "    .dataframe thead th {\n",
       "        text-align: right;\n",
       "    }\n",
       "</style>\n",
       "<table border=\"1\" class=\"dataframe\">\n",
       "  <thead>\n",
       "    <tr style=\"text-align: right;\">\n",
       "      <th></th>\n",
       "      <th>event_idx</th>\n",
       "      <th>cell_id</th>\n",
       "      <th>post</th>\n",
       "      <th>pre</th>\n",
       "      <th>auc_diff</th>\n",
       "    </tr>\n",
       "  </thead>\n",
       "  <tbody>\n",
       "    <tr>\n",
       "      <th>0</th>\n",
       "      <td>0</td>\n",
       "      <td>1050</td>\n",
       "      <td>0.015355</td>\n",
       "      <td>-0.079142</td>\n",
       "      <td>0.094497</td>\n",
       "    </tr>\n",
       "    <tr>\n",
       "      <th>1</th>\n",
       "      <td>0</td>\n",
       "      <td>1051</td>\n",
       "      <td>0.512359</td>\n",
       "      <td>0.215746</td>\n",
       "      <td>0.296614</td>\n",
       "    </tr>\n",
       "    <tr>\n",
       "      <th>2</th>\n",
       "      <td>0</td>\n",
       "      <td>1053</td>\n",
       "      <td>-0.105208</td>\n",
       "      <td>0.001938</td>\n",
       "      <td>-0.107147</td>\n",
       "    </tr>\n",
       "  </tbody>\n",
       "</table>\n",
       "</div>"
      ],
      "text/plain": [
       "   event_idx cell_id      post       pre  auc_diff\n",
       "0          0    1050  0.015355 -0.079142  0.094497\n",
       "1          0    1051  0.512359  0.215746  0.296614\n",
       "2          0    1053 -0.105208  0.001938 -0.107147"
      ]
     },
     "execution_count": 4,
     "metadata": {},
     "output_type": "execute_result"
    }
   ],
   "source": [
    "df_traces = loader.load_traces(session_name=\"ret\")\n",
    "df_events = loader.load_blockstarts(session_name=\"ret\", block_group=\"CS\")\n",
    "\n",
    "\n",
    "print(\"Average trace (long)\")\n",
    "df_average_trace = aligner.average_trace_long(df_traces, event_starts=df_events)\n",
    "display(df_average_trace.head(3))\n",
    "\n",
    "\n",
    "print()\n",
    "print(\"Statistic: AUC-post minus AUC-pre\")\n",
    "df_auc_diff = aggregator.prepost_diff(df_average_trace)\n",
    "display(df_auc_diff.head(3))\n",
    "\n",
    "\n",
    "# stat calculater\n",
    "print()\n",
    "print(\"---------------------------\")\n",
    "print(\"Statistic calculator\")\n",
    "print(\"---------------------------\")\n",
    "stat_calculator.get_stat(df_traces, df_events).head(3)"
   ]
  },
  {
   "cell_type": "markdown",
   "metadata": {},
   "source": [
    "#### Exemplar: Computing responders using a bootstrap test\n",
    "\n",
    "- Traces and events are loaded for each mice for a single session\n",
    "- The `AUCDiffResponders` class calulates the following\n",
    "  - Once, calculates the AUC difference statistic on the observed data\n",
    "  - For each bootstrap iteration, rotates the traces, and calculates the AUC difference statistic\n",
    "  - Calculates p-values for each cell by comparing the observed statistic to the bootstrap distribution"
   ]
  },
  {
   "cell_type": "code",
   "execution_count": 5,
   "metadata": {},
   "outputs": [
    {
     "name": "stderr",
     "output_type": "stream",
     "text": [
      "/opt/miniconda3/envs/astro/lib/python3.11/site-packages/joblib/externals/loky/process_executor.py:700: UserWarning: A worker stopped while some jobs were given to the executor. This can be caused by a too short worker timeout or by a memory leak.\n",
      "  warnings.warn(\n",
      "/opt/miniconda3/envs/astro/lib/python3.11/site-packages/joblib/externals/loky/process_executor.py:700: UserWarning: A worker stopped while some jobs were given to the executor. This can be caused by a too short worker timeout or by a memory leak.\n",
      "  warnings.warn(\n",
      "/opt/miniconda3/envs/astro/lib/python3.11/site-packages/joblib/externals/loky/process_executor.py:700: UserWarning: A worker stopped while some jobs were given to the executor. This can be caused by a too short worker timeout or by a memory leak.\n",
      "  warnings.warn(\n",
      "/opt/miniconda3/envs/astro/lib/python3.11/site-packages/joblib/externals/loky/process_executor.py:700: UserWarning: A worker stopped while some jobs were given to the executor. This can be caused by a too short worker timeout or by a memory leak.\n",
      "  warnings.warn(\n",
      "/opt/miniconda3/envs/astro/lib/python3.11/site-packages/joblib/externals/loky/process_executor.py:700: UserWarning: A worker stopped while some jobs were given to the executor. This can be caused by a too short worker timeout or by a memory leak.\n",
      "  warnings.warn(\n"
     ]
    }
   ],
   "source": [
    "responders = responders_calculator.get_responders(df_traces, df_events)"
   ]
  },
  {
   "cell_type": "code",
   "execution_count": 6,
   "metadata": {},
   "outputs": [
    {
     "name": "stdout",
     "output_type": "stream",
     "text": [
      "---------------------------\n",
      "DF OBSERVED\n",
      "---------------------------\n"
     ]
    },
    {
     "data": {
      "text/html": [
       "<div>\n",
       "<style scoped>\n",
       "    .dataframe tbody tr th:only-of-type {\n",
       "        vertical-align: middle;\n",
       "    }\n",
       "\n",
       "    .dataframe tbody tr th {\n",
       "        vertical-align: top;\n",
       "    }\n",
       "\n",
       "    .dataframe thead th {\n",
       "        text-align: right;\n",
       "    }\n",
       "</style>\n",
       "<table border=\"1\" class=\"dataframe\">\n",
       "  <thead>\n",
       "    <tr style=\"text-align: right;\">\n",
       "      <th></th>\n",
       "      <th>cell_id</th>\n",
       "      <th>stat</th>\n",
       "    </tr>\n",
       "  </thead>\n",
       "  <tbody>\n",
       "    <tr>\n",
       "      <th>0</th>\n",
       "      <td>1050</td>\n",
       "      <td>0.094497</td>\n",
       "    </tr>\n",
       "    <tr>\n",
       "      <th>1</th>\n",
       "      <td>1051</td>\n",
       "      <td>0.296614</td>\n",
       "    </tr>\n",
       "    <tr>\n",
       "      <th>2</th>\n",
       "      <td>1053</td>\n",
       "      <td>-0.107147</td>\n",
       "    </tr>\n",
       "  </tbody>\n",
       "</table>\n",
       "</div>"
      ],
      "text/plain": [
       "  cell_id      stat\n",
       "0    1050  0.094497\n",
       "1    1051  0.296614\n",
       "2    1053 -0.107147"
      ]
     },
     "metadata": {},
     "output_type": "display_data"
    },
    {
     "name": "stdout",
     "output_type": "stream",
     "text": [
      "---------------------------\n",
      "DF BOOTSTRAP REPLICATES\n",
      "---------------------------\n"
     ]
    },
    {
     "data": {
      "text/html": [
       "<div>\n",
       "<style scoped>\n",
       "    .dataframe tbody tr th:only-of-type {\n",
       "        vertical-align: middle;\n",
       "    }\n",
       "\n",
       "    .dataframe tbody tr th {\n",
       "        vertical-align: top;\n",
       "    }\n",
       "\n",
       "    .dataframe thead th {\n",
       "        text-align: right;\n",
       "    }\n",
       "</style>\n",
       "<table border=\"1\" class=\"dataframe\">\n",
       "  <thead>\n",
       "    <tr style=\"text-align: right;\">\n",
       "      <th></th>\n",
       "      <th>cell_id</th>\n",
       "      <th>stat</th>\n",
       "      <th>sample</th>\n",
       "    </tr>\n",
       "  </thead>\n",
       "  <tbody>\n",
       "    <tr>\n",
       "      <th>0</th>\n",
       "      <td>1050</td>\n",
       "      <td>0.575329</td>\n",
       "      <td>0</td>\n",
       "    </tr>\n",
       "    <tr>\n",
       "      <th>0</th>\n",
       "      <td>1050</td>\n",
       "      <td>0.315194</td>\n",
       "      <td>1</td>\n",
       "    </tr>\n",
       "    <tr>\n",
       "      <th>0</th>\n",
       "      <td>1050</td>\n",
       "      <td>-0.299084</td>\n",
       "      <td>2</td>\n",
       "    </tr>\n",
       "  </tbody>\n",
       "</table>\n",
       "</div>"
      ],
      "text/plain": [
       "  cell_id      stat  sample\n",
       "0    1050  0.575329       0\n",
       "0    1050  0.315194       1\n",
       "0    1050 -0.299084       2"
      ]
     },
     "metadata": {},
     "output_type": "display_data"
    },
    {
     "name": "stdout",
     "output_type": "stream",
     "text": [
      "---------------------------\n",
      "DF RESPONDERS\n",
      "---------------------------\n"
     ]
    },
    {
     "data": {
      "text/html": [
       "<div>\n",
       "<style scoped>\n",
       "    .dataframe tbody tr th:only-of-type {\n",
       "        vertical-align: middle;\n",
       "    }\n",
       "\n",
       "    .dataframe tbody tr th {\n",
       "        vertical-align: top;\n",
       "    }\n",
       "\n",
       "    .dataframe thead th {\n",
       "        text-align: right;\n",
       "    }\n",
       "</style>\n",
       "<table border=\"1\" class=\"dataframe\">\n",
       "  <thead>\n",
       "    <tr style=\"text-align: right;\">\n",
       "      <th></th>\n",
       "      <th>cell_id</th>\n",
       "      <th>stat</th>\n",
       "      <th>pval</th>\n",
       "      <th>sig</th>\n",
       "    </tr>\n",
       "  </thead>\n",
       "  <tbody>\n",
       "    <tr>\n",
       "      <th>0</th>\n",
       "      <td>1050</td>\n",
       "      <td>0.094497</td>\n",
       "      <td>1.68</td>\n",
       "      <td>False</td>\n",
       "    </tr>\n",
       "    <tr>\n",
       "      <th>1</th>\n",
       "      <td>1051</td>\n",
       "      <td>0.296614</td>\n",
       "      <td>1.12</td>\n",
       "      <td>False</td>\n",
       "    </tr>\n",
       "    <tr>\n",
       "      <th>2</th>\n",
       "      <td>1053</td>\n",
       "      <td>-0.107147</td>\n",
       "      <td>1.24</td>\n",
       "      <td>False</td>\n",
       "    </tr>\n",
       "  </tbody>\n",
       "</table>\n",
       "</div>"
      ],
      "text/plain": [
       "  cell_id      stat  pval    sig\n",
       "0    1050  0.094497  1.68  False\n",
       "1    1051  0.296614  1.12  False\n",
       "2    1053 -0.107147  1.24  False"
      ]
     },
     "metadata": {},
     "output_type": "display_data"
    }
   ],
   "source": [
    "print(\"---------------------------\")\n",
    "print(\"DF OBSERVED\")\n",
    "print(\"---------------------------\")\n",
    "display(responders_calculator.df_obs_.head(3))\n",
    "\n",
    "print(\"---------------------------\")\n",
    "print(\"DF BOOTSTRAP REPLICATES\")\n",
    "print(\"---------------------------\")\n",
    "display(responders_calculator.df_bootreps_.head(3))\n",
    "\n",
    "\n",
    "print(\"---------------------------\")\n",
    "print(\"DF RESPONDERS\")\n",
    "print(\"---------------------------\")\n",
    "display(responders_calculator.df_responders_.head(3))"
   ]
  },
  {
   "cell_type": "code",
   "execution_count": null,
   "metadata": {},
   "outputs": [],
   "source": []
  }
 ],
 "metadata": {
  "kernelspec": {
   "display_name": "astro",
   "language": "python",
   "name": "python3"
  },
  "language_info": {
   "codemirror_mode": {
    "name": "ipython",
    "version": 3
   },
   "file_extension": ".py",
   "mimetype": "text/x-python",
   "name": "python",
   "nbconvert_exporter": "python",
   "pygments_lexer": "ipython3",
   "version": "3.11.5"
  }
 },
 "nbformat": 4,
 "nbformat_minor": 2
}
